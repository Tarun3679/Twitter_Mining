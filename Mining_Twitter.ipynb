{
  "nbformat": 4,
  "nbformat_minor": 0,
  "metadata": {
    "kernelspec": {
      "display_name": "Python 3",
      "language": "python",
      "name": "python3"
    },
    "language_info": {
      "codemirror_mode": {
        "name": "ipython",
        "version": 3
      },
      "file_extension": ".py",
      "mimetype": "text/x-python",
      "name": "python",
      "nbconvert_exporter": "python",
      "pygments_lexer": "ipython3",
      "version": "3.6.8"
    },
    "colab": {
      "name": "Mining_Twitter.ipynb",
      "provenance": []
    }
  },
  "cells": [
    {
      "cell_type": "markdown",
      "metadata": {
        "id": "Stjch-qchV7Q"
      },
      "source": [
        "MINING TWITTER"
      ]
    },
    {
      "cell_type": "code",
      "metadata": {
        "colab": {
          "base_uri": "https://localhost:8080/"
        },
        "id": "3Ak3IkI8b9sP",
        "outputId": "673f0a2d-1d12-49c3-96be-d02a155ad194"
      },
      "source": [
        "!pip install twitter"
      ],
      "execution_count": 2,
      "outputs": [
        {
          "output_type": "stream",
          "text": [
            "Collecting twitter\n",
            "\u001b[?25l  Downloading https://files.pythonhosted.org/packages/85/e2/f602e3f584503f03e0389491b251464f8ecfe2596ac86e6b9068fe7419d3/twitter-1.18.0-py2.py3-none-any.whl (54kB)\n",
            "\r\u001b[K     |██████                          | 10kB 16.5MB/s eta 0:00:01\r\u001b[K     |████████████                    | 20kB 19.3MB/s eta 0:00:01\r\u001b[K     |██████████████████              | 30kB 9.6MB/s eta 0:00:01\r\u001b[K     |████████████████████████        | 40kB 8.7MB/s eta 0:00:01\r\u001b[K     |██████████████████████████████▏ | 51kB 4.4MB/s eta 0:00:01\r\u001b[K     |████████████████████████████████| 61kB 3.2MB/s \n",
            "\u001b[?25hInstalling collected packages: twitter\n",
            "Successfully installed twitter-1.18.0\n"
          ],
          "name": "stdout"
        }
      ]
    },
    {
      "cell_type": "markdown",
      "metadata": {
        "id": "YHj21QRha7gJ"
      },
      "source": [
        "## Authorizing an application to access Twitter account data"
      ]
    },
    {
      "cell_type": "code",
      "metadata": {
        "id": "gOfwYo4Ba7gJ",
        "colab": {
          "base_uri": "https://localhost:8080/"
        },
        "outputId": "a3e16f63-80c2-43c5-afc2-2a6afd02ce30"
      },
      "source": [
        "import twitter\n",
        "\n",
        "# Go to https://developer.twitter.com/en/apps to create an app and get values\n",
        "# for these credentials, which you'll need to provide in place of these\n",
        "# empty string values that are defined as placeholders.\n",
        "# See https://developer.twitter.com/en/docs/basics/authentication/overview/oauth\n",
        "# for more information on Twitter's OAuth implementation.\n",
        "\n",
        "CONSUMER_KEY = ''#api_key\n",
        "CONSUMER_SECRET = ''#api_secret\n",
        "OAUTH_TOKEN = ''#Twitter_access_token\n",
        "OAUTH_TOKEN_SECRET = ''#Twitter_access_secret\n",
        "\n",
        "auth = twitter.oauth.OAuth(OAUTH_TOKEN, OAUTH_TOKEN_SECRET,\n",
        "                           CONSUMER_KEY, CONSUMER_SECRET)\n",
        "\n",
        "twitter_api = twitter.Twitter(auth=auth)\n",
        "\n",
        "# Nothing to see by displaying twitter_api except that it's now a\n",
        "# defined variable\n",
        "\n",
        "print(twitter_api)"
      ],
      "execution_count": 3,
      "outputs": [
        {
          "output_type": "stream",
          "text": [
            "<twitter.api.Twitter object at 0x7f95f83b7c18>\n"
          ],
          "name": "stdout"
        }
      ]
    },
    {
      "cell_type": "markdown",
      "metadata": {
        "id": "ABuLqb9Pa7gK"
      },
      "source": [
        "## Retrieving trends"
      ]
    },
    {
      "cell_type": "code",
      "metadata": {
        "id": "aau_Wo78a7gL",
        "colab": {
          "base_uri": "https://localhost:8080/"
        },
        "outputId": "f5e6d918-2061-44a9-b7bf-5c86403131a3"
      },
      "source": [
        "# Where On Earth ID for the entire world is 1.\n",
        "\n",
        "\n",
        "WORLD_WOE_ID = 1\n",
        "IND_WOE_ID = 2282863\n",
        "\n",
        "# Prefix ID with the underscore for query string parameterization.\n",
        "# Without the underscore, the twitter package appends the ID value\n",
        "# to the URL itself as a special case keyword argument.\n",
        "\n",
        "world_trends = twitter_api.trends.place(_id=WORLD_WOE_ID)\n",
        "ind_trends = twitter_api.trends.place(_id=IND_WOE_ID)\n",
        "\n",
        "print(world_trends)\n",
        "print()\n",
        "print(ind_trends)"
      ],
      "execution_count": 13,
      "outputs": [
        {
          "output_type": "stream",
          "text": [
            "[{'trends': [{'name': '#SakhirGP', 'url': 'http://twitter.com/search?q=%23SakhirGP', 'promoted_content': None, 'query': '%23SakhirGP', 'tweet_volume': 219377}, {'name': 'Arsenal', 'url': 'http://twitter.com/search?q=Arsenal', 'promoted_content': None, 'query': 'Arsenal', 'tweet_volume': 299216}, {'name': 'Russell', 'url': 'http://twitter.com/search?q=Russell', 'promoted_content': None, 'query': 'Russell', 'tweet_volume': 131276}, {'name': 'Browns', 'url': 'http://twitter.com/search?q=Browns', 'promoted_content': None, 'query': 'Browns', 'tweet_volume': 62002}, {'name': '#TOTARS', 'url': 'http://twitter.com/search?q=%23TOTARS', 'promoted_content': None, 'query': '%23TOTARS', 'tweet_volume': 71943}, {'name': 'Bottas', 'url': 'http://twitter.com/search?q=Bottas', 'promoted_content': None, 'query': 'Bottas', 'tweet_volume': 65409}, {'name': 'Checo', 'url': 'http://twitter.com/search?q=Checo', 'promoted_content': None, 'query': 'Checo', 'tweet_volume': 63235}, {'name': '#AdoreYouDay', 'url': 'http://twitter.com/search?q=%23AdoreYouDay', 'promoted_content': None, 'query': '%23AdoreYouDay', 'tweet_volume': 97828}, {'name': 'Baker', 'url': 'http://twitter.com/search?q=Baker', 'promoted_content': None, 'query': 'Baker', 'tweet_volume': 37769}, {'name': 'Kane', 'url': 'http://twitter.com/search?q=Kane', 'promoted_content': None, 'query': 'Kane', 'tweet_volume': 93162}, {'name': 'Arteta', 'url': 'http://twitter.com/search?q=Arteta', 'promoted_content': None, 'query': 'Arteta', 'tweet_volume': 57264}, {'name': '#DNZvFB', 'url': 'http://twitter.com/search?q=%23DNZvFB', 'promoted_content': None, 'query': '%23DNZvFB', 'tweet_volume': 21438}, {'name': '#COYS', 'url': 'http://twitter.com/search?q=%23COYS', 'promoted_content': None, 'query': '%23COYS', 'tweet_volume': 34729}, {'name': 'Hamilton', 'url': 'http://twitter.com/search?q=Hamilton', 'promoted_content': None, 'query': 'Hamilton', 'tweet_volume': 42940}, {'name': 'Titans', 'url': 'http://twitter.com/search?q=Titans', 'promoted_content': None, 'query': 'Titans', 'tweet_volume': 70822}, {'name': 'Spurs', 'url': 'http://twitter.com/search?q=Spurs', 'promoted_content': None, 'query': 'Spurs', 'tweet_volume': 75056}, {'name': 'Bellerin', 'url': 'http://twitter.com/search?q=Bellerin', 'promoted_content': None, 'query': 'Bellerin', 'tweet_volume': 29145}, {'name': 'Mourinho', 'url': 'http://twitter.com/search?q=Mourinho', 'promoted_content': None, 'query': 'Mourinho', 'tweet_volume': 38501}, {'name': 'Xhaka', 'url': 'http://twitter.com/search?q=Xhaka', 'promoted_content': None, 'query': 'Xhaka', 'tweet_volume': 21344}, {'name': 'Ocon', 'url': 'http://twitter.com/search?q=Ocon', 'promoted_content': None, 'query': 'Ocon', 'tweet_volume': 16963}, {'name': 'Willian', 'url': 'http://twitter.com/search?q=Willian', 'promoted_content': None, 'query': 'Willian', 'tweet_volume': 38033}, {'name': 'Ali Palabıyık', 'url': 'http://twitter.com/search?q=%22Ali+Palab%C4%B1y%C4%B1k%22', 'promoted_content': None, 'query': '%22Ali+Palab%C4%B1y%C4%B1k%22', 'tweet_volume': 33694}, {'name': 'Altay', 'url': 'http://twitter.com/search?q=Altay', 'promoted_content': None, 'query': 'Altay', 'tweet_volume': 51356}, {'name': 'Tottenham', 'url': 'http://twitter.com/search?q=Tottenham', 'promoted_content': None, 'query': 'Tottenham', 'tweet_volume': 63918}, {'name': 'Jets', 'url': 'http://twitter.com/search?q=Jets', 'promoted_content': None, 'query': 'Jets', 'tweet_volume': 30150}, {'name': 'Wakanim', 'url': 'http://twitter.com/search?q=Wakanim', 'promoted_content': None, 'query': 'Wakanim', 'tweet_volume': 151671}, {'name': 'Auba', 'url': 'http://twitter.com/search?q=Auba', 'promoted_content': None, 'query': 'Auba', 'tweet_volume': 16671}, {'name': 'Partey', 'url': 'http://twitter.com/search?q=Partey', 'promoted_content': None, 'query': 'Partey', 'tweet_volume': 39998}, {'name': 'Fenerbahçe', 'url': 'http://twitter.com/search?q=Fenerbah%C3%A7e', 'promoted_content': None, 'query': 'Fenerbah%C3%A7e', 'tweet_volume': 145309}, {'name': 'Red Bull', 'url': 'http://twitter.com/search?q=%22Red+Bull%22', 'promoted_content': None, 'query': '%22Red+Bull%22', 'tweet_volume': 15258}, {'name': 'Ozil', 'url': 'http://twitter.com/search?q=Ozil', 'promoted_content': None, 'query': 'Ozil', 'tweet_volume': 17381}, {'name': 'Leclerc', 'url': 'http://twitter.com/search?q=Leclerc', 'promoted_content': None, 'query': 'Leclerc', 'tweet_volume': 31516}, {'name': 'Racing Point', 'url': 'http://twitter.com/search?q=%22Racing+Point%22', 'promoted_content': None, 'query': '%22Racing+Point%22', 'tweet_volume': None}, {'name': 'JAKE NO FARO', 'url': 'http://twitter.com/search?q=%22JAKE+NO+FARO%22', 'promoted_content': None, 'query': '%22JAKE+NO+FARO%22', 'tweet_volume': 148107}, {'name': 'Ferrari', 'url': 'http://twitter.com/search?q=Ferrari', 'promoted_content': None, 'query': 'Ferrari', 'tweet_volume': 25158}, {'name': 'Lewis', 'url': 'http://twitter.com/search?q=Lewis', 'promoted_content': None, 'query': 'Lewis', 'tweet_volume': 48099}, {'name': 'Verstappen', 'url': 'http://twitter.com/search?q=Verstappen', 'promoted_content': None, 'query': 'Verstappen', 'tweet_volume': 16288}, {'name': 'Şerefsizlik VAR', 'url': 'http://twitter.com/search?q=%22%C5%9Eerefsizlik+VAR%22', 'promoted_content': None, 'query': '%22%C5%9Eerefsizlik+VAR%22', 'tweet_volume': 12486}, {'name': 'Stroll', 'url': 'http://twitter.com/search?q=Stroll', 'promoted_content': None, 'query': 'Stroll', 'tweet_volume': 20476}, {'name': 'Albon', 'url': 'http://twitter.com/search?q=Albon', 'promoted_content': None, 'query': 'Albon', 'tweet_volume': 12539}, {'name': 'Falcons', 'url': 'http://twitter.com/search?q=Falcons', 'promoted_content': None, 'query': 'Falcons', 'tweet_volume': 11958}, {'name': 'Jose', 'url': 'http://twitter.com/search?q=Jose', 'promoted_content': None, 'query': 'Jose', 'tweet_volume': 128258}, {'name': 'Viva México', 'url': 'http://twitter.com/search?q=%22Viva+M%C3%A9xico%22', 'promoted_content': None, 'query': '%22Viva+M%C3%A9xico%22', 'tweet_volume': None}, {'name': 'Lacazette', 'url': 'http://twitter.com/search?q=Lacazette', 'promoted_content': None, 'query': 'Lacazette', 'tweet_volume': 11584}, {'name': 'Vardy', 'url': 'http://twitter.com/search?q=Vardy', 'promoted_content': None, 'query': 'Vardy', 'tweet_volume': 37489}, {'name': 'Eroda', 'url': 'http://twitter.com/search?q=Eroda', 'promoted_content': None, 'query': 'Eroda', 'tweet_volume': 34724}, {'name': 'Saka', 'url': 'http://twitter.com/search?q=Saka', 'promoted_content': None, 'query': 'Saka', 'tweet_volume': 46932}, {'name': 'Sainz', 'url': 'http://twitter.com/search?q=Sainz', 'promoted_content': None, 'query': 'Sainz', 'tweet_volume': 10506}, {'name': 'Circuit City', 'url': 'http://twitter.com/search?q=%22Circuit+City%22', 'promoted_content': None, 'query': '%22Circuit+City%22', 'tweet_volume': None}, {'name': 'AJ Brown', 'url': 'http://twitter.com/search?q=%22AJ+Brown%22', 'promoted_content': None, 'query': '%22AJ+Brown%22', 'tweet_volume': None}], 'as_of': '2020-12-06T19:18:00Z', 'created_at': '2020-12-06T04:52:24Z', 'locations': [{'name': 'Worldwide', 'woeid': 1}]}]\n",
            "\n",
            "[{'trends': [{'name': '#BahrainGP', 'url': 'http://twitter.com/search?q=%23BahrainGP', 'promoted_content': None, 'query': '%23BahrainGP', 'tweet_volume': None}, {'name': '#FarmLaws2020', 'url': 'http://twitter.com/search?q=%23FarmLaws2020', 'promoted_content': None, 'query': '%23FarmLaws2020', 'tweet_volume': 13320}, {'name': '#hardikpandya', 'url': 'http://twitter.com/search?q=%23hardikpandya', 'promoted_content': None, 'query': '%23hardikpandya', 'tweet_volume': None}, {'name': 'apmc', 'url': 'http://twitter.com/search?q=apmc', 'promoted_content': None, 'query': 'apmc', 'tweet_volume': 17149}, {'name': '#FarmerPolitics', 'url': 'http://twitter.com/search?q=%23FarmerPolitics', 'promoted_content': None, 'query': '%23FarmerPolitics', 'tweet_volume': None}, {'name': 'Dhoni', 'url': 'http://twitter.com/search?q=Dhoni', 'promoted_content': None, 'query': 'Dhoni', 'tweet_volume': 26079}, {'name': '#SakhirGP', 'url': 'http://twitter.com/search?q=%23SakhirGP', 'promoted_content': None, 'query': '%23SakhirGP', 'tweet_volume': 220696}, {'name': 'Arsenal', 'url': 'http://twitter.com/search?q=Arsenal', 'promoted_content': None, 'query': 'Arsenal', 'tweet_volume': 299216}, {'name': 'Perez', 'url': 'http://twitter.com/search?q=Perez', 'promoted_content': None, 'query': 'Perez', 'tweet_volume': 136651}, {'name': 'Checo', 'url': 'http://twitter.com/search?q=Checo', 'promoted_content': None, 'query': 'Checo', 'tweet_volume': 63235}, {'name': 'Russell', 'url': 'http://twitter.com/search?q=Russell', 'promoted_content': None, 'query': 'Russell', 'tweet_volume': 130826}, {'name': 'Arteta', 'url': 'http://twitter.com/search?q=Arteta', 'promoted_content': None, 'query': 'Arteta', 'tweet_volume': 57466}, {'name': 'Bottas', 'url': 'http://twitter.com/search?q=Bottas', 'promoted_content': None, 'query': 'Bottas', 'tweet_volume': 65660}, {'name': 'Mourinho', 'url': 'http://twitter.com/search?q=Mourinho', 'promoted_content': None, 'query': 'Mourinho', 'tweet_volume': 38501}, {'name': 'Bellerin', 'url': 'http://twitter.com/search?q=Bellerin', 'promoted_content': None, 'query': 'Bellerin', 'tweet_volume': 29196}, {'name': 'Kane', 'url': 'http://twitter.com/search?q=Kane', 'promoted_content': None, 'query': 'Kane', 'tweet_volume': 93162}, {'name': 'Willian', 'url': 'http://twitter.com/search?q=Willian', 'promoted_content': None, 'query': 'Willian', 'tweet_volume': 37970}, {'name': 'Spurs', 'url': 'http://twitter.com/search?q=Spurs', 'promoted_content': None, 'query': 'Spurs', 'tweet_volume': 75056}, {'name': 'Ocon', 'url': 'http://twitter.com/search?q=Ocon', 'promoted_content': None, 'query': 'Ocon', 'tweet_volume': 17052}, {'name': 'RAHUL VAIDYA MATTERS', 'url': 'http://twitter.com/search?q=%22RAHUL+VAIDYA+MATTERS%22', 'promoted_content': None, 'query': '%22RAHUL+VAIDYA+MATTERS%22', 'tweet_volume': 247028}, {'name': 'Xhaka', 'url': 'http://twitter.com/search?q=Xhaka', 'promoted_content': None, 'query': 'Xhaka', 'tweet_volume': 21344}, {'name': 'Racing Point', 'url': 'http://twitter.com/search?q=%22Racing+Point%22', 'promoted_content': None, 'query': '%22Racing+Point%22', 'tweet_volume': None}, {'name': 'Auba', 'url': 'http://twitter.com/search?q=Auba', 'promoted_content': None, 'query': 'Auba', 'tweet_volume': 16721}, {'name': 'Hamilton', 'url': 'http://twitter.com/search?q=Hamilton', 'promoted_content': None, 'query': 'Hamilton', 'tweet_volume': 42940}, {'name': 'Partey', 'url': 'http://twitter.com/search?q=Partey', 'promoted_content': None, 'query': 'Partey', 'tweet_volume': 39998}, {'name': 'BTS IS 7', 'url': 'http://twitter.com/search?q=%22BTS+IS+7%22', 'promoted_content': None, 'query': '%22BTS+IS+7%22', 'tweet_volume': 304321}, {'name': 'Kim Taehyung', 'url': 'http://twitter.com/search?q=%22Kim+Taehyung%22', 'promoted_content': None, 'query': '%22Kim+Taehyung%22', 'tweet_volume': 300157}, {'name': 'Ozil', 'url': 'http://twitter.com/search?q=Ozil', 'promoted_content': None, 'query': 'Ozil', 'tweet_volume': 17381}, {'name': 'Tottenham', 'url': 'http://twitter.com/search?q=Tottenham', 'promoted_content': None, 'query': 'Tottenham', 'tweet_volume': 63918}, {'name': 'Saka', 'url': 'http://twitter.com/search?q=Saka', 'promoted_content': None, 'query': 'Saka', 'tweet_volume': 46970}, {'name': 'Red Bull', 'url': 'http://twitter.com/search?q=%22Red+Bull%22', 'promoted_content': None, 'query': '%22Red+Bull%22', 'tweet_volume': 15258}, {'name': 'Lewis', 'url': 'http://twitter.com/search?q=Lewis', 'promoted_content': None, 'query': 'Lewis', 'tweet_volume': 48099}, {'name': 'Tierney', 'url': 'http://twitter.com/search?q=Tierney', 'promoted_content': None, 'query': 'Tierney', 'tweet_volume': None}, {'name': '40M KHILADIANs ON TWITTER', 'url': 'http://twitter.com/search?q=%2240M+KHILADIANs+ON+TWITTER%22', 'promoted_content': None, 'query': '%2240M+KHILADIANs+ON+TWITTER%22', 'tweet_volume': 40399}, {'name': 'Ferrari', 'url': 'http://twitter.com/search?q=Ferrari', 'promoted_content': None, 'query': 'Ferrari', 'tweet_volume': 25268}, {'name': 'Anfield', 'url': 'http://twitter.com/search?q=Anfield', 'promoted_content': None, 'query': 'Anfield', 'tweet_volume': 10003}, {'name': 'Yogendra Yadav', 'url': 'http://twitter.com/search?q=%22Yogendra+Yadav%22', 'promoted_content': None, 'query': '%22Yogendra+Yadav%22', 'tweet_volume': None}, {'name': 'jyugal', 'url': 'http://twitter.com/search?q=jyugal', 'promoted_content': None, 'query': 'jyugal', 'tweet_volume': None}, {'name': 'Wenger', 'url': 'http://twitter.com/search?q=Wenger', 'promoted_content': None, 'query': 'Wenger', 'tweet_volume': None}, {'name': 'Eroda', 'url': 'http://twitter.com/search?q=Eroda', 'promoted_content': None, 'query': 'Eroda', 'tweet_volume': 34724}, {'name': 'Sunny Deol', 'url': 'http://twitter.com/search?q=%22Sunny+Deol%22', 'promoted_content': None, 'query': '%22Sunny+Deol%22', 'tweet_volume': None}, {'name': 'बहादुर जंग', 'url': 'http://twitter.com/search?q=%22%E0%A4%AC%E0%A4%B9%E0%A4%BE%E0%A4%A6%E0%A5%81%E0%A4%B0+%E0%A4%9C%E0%A4%82%E0%A4%97%22', 'promoted_content': None, 'query': '%22%E0%A4%AC%E0%A4%B9%E0%A4%BE%E0%A4%A6%E0%A5%81%E0%A4%B0+%E0%A4%9C%E0%A4%82%E0%A4%97%22', 'tweet_volume': None}, {'name': 'Lacazette', 'url': 'http://twitter.com/search?q=Lacazette', 'promoted_content': None, 'query': 'Lacazette', 'tweet_volume': 11584}, {'name': 'joonie', 'url': 'http://twitter.com/search?q=joonie', 'promoted_content': None, 'query': 'joonie', 'tweet_volume': 29469}, {'name': 'Gabriel', 'url': 'http://twitter.com/search?q=Gabriel', 'promoted_content': None, 'query': 'Gabriel', 'tweet_volume': 94566}, {'name': 'Nelson', 'url': 'http://twitter.com/search?q=Nelson', 'promoted_content': None, 'query': 'Nelson', 'tweet_volume': 31323}, {'name': 'Hobi', 'url': 'http://twitter.com/search?q=Hobi', 'promoted_content': None, 'query': 'Hobi', 'tweet_volume': 176790}, {'name': 'Vettel', 'url': 'http://twitter.com/search?q=Vettel', 'promoted_content': None, 'query': 'Vettel', 'tweet_volume': None}, {'name': 'अली खान', 'url': 'http://twitter.com/search?q=%22%E0%A4%85%E0%A4%B2%E0%A5%80+%E0%A4%96%E0%A4%BE%E0%A4%A8%22', 'promoted_content': None, 'query': '%22%E0%A4%85%E0%A4%B2%E0%A5%80+%E0%A4%96%E0%A4%BE%E0%A4%A8%22', 'tweet_volume': 42920}], 'as_of': '2020-12-06T19:18:00Z', 'created_at': '2020-12-06T06:45:02Z', 'locations': [{'name': 'Nagpur', 'woeid': 2282863}]}]\n"
          ],
          "name": "stdout"
        }
      ]
    },
    {
      "cell_type": "code",
      "metadata": {
        "id": "GwRGHzY1a7gL",
        "colab": {
          "base_uri": "https://localhost:8080/"
        },
        "outputId": "a4f4ed22-6d6a-4da3-b70c-432e718daf99"
      },
      "source": [
        "for trend in world_trends[0]['trends']:\n",
        "    print(trend['name'])"
      ],
      "execution_count": 14,
      "outputs": [
        {
          "output_type": "stream",
          "text": [
            "#SakhirGP\n",
            "Arsenal\n",
            "Russell\n",
            "Browns\n",
            "#TOTARS\n",
            "Bottas\n",
            "Checo\n",
            "#AdoreYouDay\n",
            "Baker\n",
            "Kane\n",
            "Arteta\n",
            "#DNZvFB\n",
            "#COYS\n",
            "Hamilton\n",
            "Titans\n",
            "Spurs\n",
            "Bellerin\n",
            "Mourinho\n",
            "Xhaka\n",
            "Ocon\n",
            "Willian\n",
            "Ali Palabıyık\n",
            "Altay\n",
            "Tottenham\n",
            "Jets\n",
            "Wakanim\n",
            "Auba\n",
            "Partey\n",
            "Fenerbahçe\n",
            "Red Bull\n",
            "Ozil\n",
            "Leclerc\n",
            "Racing Point\n",
            "JAKE NO FARO\n",
            "Ferrari\n",
            "Lewis\n",
            "Verstappen\n",
            "Şerefsizlik VAR\n",
            "Stroll\n",
            "Albon\n",
            "Falcons\n",
            "Jose\n",
            "Viva México\n",
            "Lacazette\n",
            "Vardy\n",
            "Eroda\n",
            "Saka\n",
            "Sainz\n",
            "Circuit City\n",
            "AJ Brown\n"
          ],
          "name": "stdout"
        }
      ]
    },
    {
      "cell_type": "code",
      "metadata": {
        "id": "TCCdcgLSa7gL",
        "colab": {
          "base_uri": "https://localhost:8080/"
        },
        "outputId": "13b0f5c8-f865-4c06-f541-e6ffcda69acb"
      },
      "source": [
        "for trend in ind_trends[0]['trends']:\n",
        "    print(trend['name'])"
      ],
      "execution_count": 15,
      "outputs": [
        {
          "output_type": "stream",
          "text": [
            "#BahrainGP\n",
            "#FarmLaws2020\n",
            "#hardikpandya\n",
            "apmc\n",
            "#FarmerPolitics\n",
            "Dhoni\n",
            "#SakhirGP\n",
            "Arsenal\n",
            "Perez\n",
            "Checo\n",
            "Russell\n",
            "Arteta\n",
            "Bottas\n",
            "Mourinho\n",
            "Bellerin\n",
            "Kane\n",
            "Willian\n",
            "Spurs\n",
            "Ocon\n",
            "RAHUL VAIDYA MATTERS\n",
            "Xhaka\n",
            "Racing Point\n",
            "Auba\n",
            "Hamilton\n",
            "Partey\n",
            "BTS IS 7\n",
            "Kim Taehyung\n",
            "Ozil\n",
            "Tottenham\n",
            "Saka\n",
            "Red Bull\n",
            "Lewis\n",
            "Tierney\n",
            "40M KHILADIANs ON TWITTER\n",
            "Ferrari\n",
            "Anfield\n",
            "Yogendra Yadav\n",
            "jyugal\n",
            "Wenger\n",
            "Eroda\n",
            "Sunny Deol\n",
            "बहादुर जंग\n",
            "Lacazette\n",
            "joonie\n",
            "Gabriel\n",
            "Nelson\n",
            "Hobi\n",
            "Vettel\n",
            "अली खान\n"
          ],
          "name": "stdout"
        }
      ]
    },
    {
      "cell_type": "code",
      "metadata": {
        "id": "cmM75Xhwa7gL",
        "colab": {
          "base_uri": "https://localhost:8080/"
        },
        "outputId": "58ca731c-6ba8-4131-d034-fb8a2636a89b"
      },
      "source": [
        "world_trends_set = set([trend['name'] \n",
        "                        for trend in world_trends[0]['trends']])\n",
        "\n",
        "ind_trends_set = set([trend['name'] \n",
        "                     for trend in ind_trends[0]['trends']]) \n",
        "\n",
        "common_trends = world_trends_set.intersection(ind_trends_set)\n",
        "\n",
        "print(common_trends)"
      ],
      "execution_count": 16,
      "outputs": [
        {
          "output_type": "stream",
          "text": [
            "{'Checo', 'Bellerin', 'Arteta', 'Willian', 'Russell', 'Mourinho', 'Red Bull', 'Racing Point', 'Saka', 'Lewis', 'Auba', 'Tottenham', 'Xhaka', 'Ferrari', 'Hamilton', 'Bottas', 'Arsenal', 'Eroda', 'Spurs', '#SakhirGP', 'Lacazette', 'Ocon', 'Kane', 'Partey', 'Ozil'}\n"
          ],
          "name": "stdout"
        }
      ]
    },
    {
      "cell_type": "markdown",
      "metadata": {
        "id": "D0UHv8A3a7gL"
      },
      "source": [
        "## Anatomy of a Tweet"
      ]
    },
    {
      "cell_type": "code",
      "metadata": {
        "id": "vO-cyE3Xa7gL",
        "colab": {
          "base_uri": "https://localhost:8080/"
        },
        "outputId": "1f1b9372-8438-47c7-c0de-f2a8d34b2739"
      },
      "source": [
        "import json\n",
        "\n",
        "# Set this variable to a trending topic, \n",
        "# or anything else for that matter. The example query below\n",
        "# was a trending topic when this content was being developed\n",
        "# and is used throughout the remainder of this chapter.\n",
        "\n",
        "q = '#FarmLaws2020' \n",
        "\n",
        "count = 100\n",
        "\n",
        "# Import unquote to prevent url encoding errors in next_results\n",
        "from urllib.parse import unquote\n",
        "\n",
        "# See https://dev.twitter.com/rest/reference/get/search/tweets\n",
        "\n",
        "search_results = twitter_api.search.tweets(q=q, count=count)\n",
        "\n",
        "statuses = search_results['statuses']\n",
        "\n",
        "\n",
        "# Iterate through 5 more batches of results by following the cursor\n",
        "for _ in range(5):\n",
        "    print('Length of statuses', len(statuses))\n",
        "    try:\n",
        "        next_results = search_results['search_metadata']['next_results']\n",
        "    except KeyError as e: # No more results when next_results doesn't exist\n",
        "        break\n",
        "        \n",
        "    # Create a dictionary from next_results, which has the following form:\n",
        "    # ?max_id=847960489447628799&q=%23RIPSelena&count=100&include_entities=1\n",
        "    kwargs = dict([ kv.split('=') for kv in unquote(next_results[1:]).split(\"&\") ])\n",
        "    \n",
        "    search_results = twitter_api.search.tweets(**kwargs)\n",
        "    statuses += search_results['statuses']\n",
        "\n",
        "# Show one sample search result by slicing the list...\n",
        "print(json.dumps(statuses[0], indent=1))"
      ],
      "execution_count": 17,
      "outputs": [
        {
          "output_type": "stream",
          "text": [
            "Length of statuses 100\n",
            "Length of statuses 200\n",
            "Length of statuses 300\n",
            "Length of statuses 400\n",
            "Length of statuses 500\n",
            "{\n",
            " \"created_at\": \"Sun Dec 06 19:21:20 +0000 2020\",\n",
            " \"id\": 1335665649234956291,\n",
            " \"id_str\": \"1335665649234956291\",\n",
            " \"text\": \"RT @IndiaToday: British Sikhs gathered to protest against India's new farming legislation, outside the High Commission of India in London,\\u2026\",\n",
            " \"truncated\": false,\n",
            " \"entities\": {\n",
            "  \"hashtags\": [],\n",
            "  \"symbols\": [],\n",
            "  \"user_mentions\": [\n",
            "   {\n",
            "    \"screen_name\": \"IndiaToday\",\n",
            "    \"name\": \"IndiaToday\",\n",
            "    \"id\": 19897138,\n",
            "    \"id_str\": \"19897138\",\n",
            "    \"indices\": [\n",
            "     3,\n",
            "     14\n",
            "    ]\n",
            "   }\n",
            "  ],\n",
            "  \"urls\": []\n",
            " },\n",
            " \"metadata\": {\n",
            "  \"iso_language_code\": \"en\",\n",
            "  \"result_type\": \"recent\"\n",
            " },\n",
            " \"source\": \"<a href=\\\"http://twitter.com/download/iphone\\\" rel=\\\"nofollow\\\">Twitter for iPhone</a>\",\n",
            " \"in_reply_to_status_id\": null,\n",
            " \"in_reply_to_status_id_str\": null,\n",
            " \"in_reply_to_user_id\": null,\n",
            " \"in_reply_to_user_id_str\": null,\n",
            " \"in_reply_to_screen_name\": null,\n",
            " \"user\": {\n",
            "  \"id\": 862758962806095873,\n",
            "  \"id_str\": \"862758962806095873\",\n",
            "  \"name\": \"Nushe\",\n",
            "  \"screen_name\": \"nushedhuka\",\n",
            "  \"location\": \"Houston TX , USA\\ud83c\\uddfa\\ud83c\\uddf8\",\n",
            "  \"description\": \"\",\n",
            "  \"url\": null,\n",
            "  \"entities\": {\n",
            "   \"description\": {\n",
            "    \"urls\": []\n",
            "   }\n",
            "  },\n",
            "  \"protected\": false,\n",
            "  \"followers_count\": 57,\n",
            "  \"friends_count\": 217,\n",
            "  \"listed_count\": 0,\n",
            "  \"created_at\": \"Thu May 11 19:59:00 +0000 2017\",\n",
            "  \"favourites_count\": 5647,\n",
            "  \"utc_offset\": null,\n",
            "  \"time_zone\": null,\n",
            "  \"geo_enabled\": false,\n",
            "  \"verified\": false,\n",
            "  \"statuses_count\": 2421,\n",
            "  \"lang\": null,\n",
            "  \"contributors_enabled\": false,\n",
            "  \"is_translator\": false,\n",
            "  \"is_translation_enabled\": false,\n",
            "  \"profile_background_color\": \"F5F8FA\",\n",
            "  \"profile_background_image_url\": null,\n",
            "  \"profile_background_image_url_https\": null,\n",
            "  \"profile_background_tile\": false,\n",
            "  \"profile_image_url\": \"http://pbs.twimg.com/profile_images/1328141969676247042/Nst6RINS_normal.jpg\",\n",
            "  \"profile_image_url_https\": \"https://pbs.twimg.com/profile_images/1328141969676247042/Nst6RINS_normal.jpg\",\n",
            "  \"profile_banner_url\": \"https://pbs.twimg.com/profile_banners/862758962806095873/1572059492\",\n",
            "  \"profile_link_color\": \"1DA1F2\",\n",
            "  \"profile_sidebar_border_color\": \"C0DEED\",\n",
            "  \"profile_sidebar_fill_color\": \"DDEEF6\",\n",
            "  \"profile_text_color\": \"333333\",\n",
            "  \"profile_use_background_image\": true,\n",
            "  \"has_extended_profile\": false,\n",
            "  \"default_profile\": true,\n",
            "  \"default_profile_image\": false,\n",
            "  \"following\": false,\n",
            "  \"follow_request_sent\": false,\n",
            "  \"notifications\": false,\n",
            "  \"translator_type\": \"none\"\n",
            " },\n",
            " \"geo\": null,\n",
            " \"coordinates\": null,\n",
            " \"place\": null,\n",
            " \"contributors\": null,\n",
            " \"retweeted_status\": {\n",
            "  \"created_at\": \"Sun Dec 06 15:24:51 +0000 2020\",\n",
            "  \"id\": 1335606133914886144,\n",
            "  \"id_str\": \"1335606133914886144\",\n",
            "  \"text\": \"British Sikhs gathered to protest against India's new farming legislation, outside the High Commission of India in\\u2026 https://t.co/I2aNiuXUz3\",\n",
            "  \"truncated\": true,\n",
            "  \"entities\": {\n",
            "   \"hashtags\": [],\n",
            "   \"symbols\": [],\n",
            "   \"user_mentions\": [],\n",
            "   \"urls\": [\n",
            "    {\n",
            "     \"url\": \"https://t.co/I2aNiuXUz3\",\n",
            "     \"expanded_url\": \"https://twitter.com/i/web/status/1335606133914886144\",\n",
            "     \"display_url\": \"twitter.com/i/web/status/1\\u2026\",\n",
            "     \"indices\": [\n",
            "      116,\n",
            "      139\n",
            "     ]\n",
            "    }\n",
            "   ]\n",
            "  },\n",
            "  \"metadata\": {\n",
            "   \"iso_language_code\": \"en\",\n",
            "   \"result_type\": \"recent\"\n",
            "  },\n",
            "  \"source\": \"<a href=\\\"https://mobile.twitter.com\\\" rel=\\\"nofollow\\\">Twitter Web App</a>\",\n",
            "  \"in_reply_to_status_id\": null,\n",
            "  \"in_reply_to_status_id_str\": null,\n",
            "  \"in_reply_to_user_id\": null,\n",
            "  \"in_reply_to_user_id_str\": null,\n",
            "  \"in_reply_to_screen_name\": null,\n",
            "  \"user\": {\n",
            "   \"id\": 19897138,\n",
            "   \"id_str\": \"19897138\",\n",
            "   \"name\": \"IndiaToday\",\n",
            "   \"screen_name\": \"IndiaToday\",\n",
            "   \"location\": \"India\",\n",
            "   \"description\": \"Brings you news breaks: Exclusive political, entertainment, sports insight, unbiased-nonaligned. We are also on Instagram : https://t.co/qf1v42FMpb\",\n",
            "   \"url\": null,\n",
            "   \"entities\": {\n",
            "    \"description\": {\n",
            "     \"urls\": [\n",
            "      {\n",
            "       \"url\": \"https://t.co/qf1v42FMpb\",\n",
            "       \"expanded_url\": \"https://www.instagram.com/indiatoday\",\n",
            "       \"display_url\": \"instagram.com/indiatoday\",\n",
            "       \"indices\": [\n",
            "        124,\n",
            "        147\n",
            "       ]\n",
            "      }\n",
            "     ]\n",
            "    }\n",
            "   },\n",
            "   \"protected\": false,\n",
            "   \"followers_count\": 5432942,\n",
            "   \"friends_count\": 246,\n",
            "   \"listed_count\": 5634,\n",
            "   \"created_at\": \"Mon Feb 02 07:21:54 +0000 2009\",\n",
            "   \"favourites_count\": 4432,\n",
            "   \"utc_offset\": null,\n",
            "   \"time_zone\": null,\n",
            "   \"geo_enabled\": true,\n",
            "   \"verified\": true,\n",
            "   \"statuses_count\": 806494,\n",
            "   \"lang\": null,\n",
            "   \"contributors_enabled\": false,\n",
            "   \"is_translator\": false,\n",
            "   \"is_translation_enabled\": false,\n",
            "   \"profile_background_color\": \"C0DEED\",\n",
            "   \"profile_background_image_url\": \"http://abs.twimg.com/images/themes/theme1/bg.png\",\n",
            "   \"profile_background_image_url_https\": \"https://abs.twimg.com/images/themes/theme1/bg.png\",\n",
            "   \"profile_background_tile\": false,\n",
            "   \"profile_image_url\": \"http://pbs.twimg.com/profile_images/1323664537770323968/vD4Ifa_b_normal.jpg\",\n",
            "   \"profile_image_url_https\": \"https://pbs.twimg.com/profile_images/1323664537770323968/vD4Ifa_b_normal.jpg\",\n",
            "   \"profile_banner_url\": \"https://pbs.twimg.com/profile_banners/19897138/1605378524\",\n",
            "   \"profile_link_color\": \"1DA1F2\",\n",
            "   \"profile_sidebar_border_color\": \"C0DEED\",\n",
            "   \"profile_sidebar_fill_color\": \"DDEEF6\",\n",
            "   \"profile_text_color\": \"333333\",\n",
            "   \"profile_use_background_image\": true,\n",
            "   \"has_extended_profile\": true,\n",
            "   \"default_profile\": true,\n",
            "   \"default_profile_image\": false,\n",
            "   \"following\": false,\n",
            "   \"follow_request_sent\": false,\n",
            "   \"notifications\": false,\n",
            "   \"translator_type\": \"none\"\n",
            "  },\n",
            "  \"geo\": null,\n",
            "  \"coordinates\": null,\n",
            "  \"place\": null,\n",
            "  \"contributors\": null,\n",
            "  \"is_quote_status\": false,\n",
            "  \"retweet_count\": 57,\n",
            "  \"favorite_count\": 324,\n",
            "  \"favorited\": false,\n",
            "  \"retweeted\": false,\n",
            "  \"possibly_sensitive\": false,\n",
            "  \"lang\": \"en\"\n",
            " },\n",
            " \"is_quote_status\": false,\n",
            " \"retweet_count\": 57,\n",
            " \"favorite_count\": 0,\n",
            " \"favorited\": false,\n",
            " \"retweeted\": false,\n",
            " \"lang\": \"en\"\n",
            "}\n"
          ],
          "name": "stdout"
        }
      ]
    },
    {
      "cell_type": "code",
      "metadata": {
        "id": "HtS0YPLwa7gL",
        "colab": {
          "base_uri": "https://localhost:8080/"
        },
        "outputId": "86170d22-9f88-4afd-bac3-72777acde16f"
      },
      "source": [
        "for i in range(10):\n",
        "    print()\n",
        "    print(statuses[i]['text'])\n",
        "    print('Favorites: ', statuses[i]['favorite_count'])\n",
        "    print('Retweets: ', statuses[i]['retweet_count'])"
      ],
      "execution_count": 18,
      "outputs": [
        {
          "output_type": "stream",
          "text": [
            "\n",
            "RT @IndiaToday: British Sikhs gathered to protest against India's new farming legislation, outside the High Commission of India in London,…\n",
            "Favorites:  0\n",
            "Retweets:  57\n",
            "\n",
            "RT @YayathiPuru: Gujarat farmers announce formation of a campaign against the #FarmLaws2020 and announce support to #BharatBandh on 8th Dec…\n",
            "Favorites:  0\n",
            "Retweets:  99\n",
            "\n",
            "RT @aruna_dk: Farmers from Rajasthan and Madhya Pradesh extend their support to new farm laws, say they are getting more price and incurrin…\n",
            "Favorites:  0\n",
            "Retweets:  8\n",
            "\n",
            "RT @MrsGandhi: Farmers across the country are extremely satisfied &amp; very optimistic about the #FarmLaws2020 brought in by the Modi govt. Li…\n",
            "Favorites:  0\n",
            "Retweets:  934\n",
            "\n",
            "RT @HarshVardhanTri: यक़ीन मानिए, जितना लंबा पंजाब के बड़े किसानों का आंदोलन चलेगा, उतना ज़्यादा देश के आम किसानों को कृषि क़ानूनों से होने…\n",
            "Favorites:  0\n",
            "Retweets:  56\n",
            "\n",
            "RT @barandbench: Bar Council of India extends support to farmers protests and Bharat Bandh on December 8.\n",
            "\n",
            "#FarmersProtest\n",
            "#FarmLaws2020 #F…\n",
            "Favorites:  0\n",
            "Retweets:  190\n",
            "\n",
            "RT @DDNewslive: Farmer Nitin Supe from Buldhana district of Maharashtra says the New farm law is beneficial for them as now they can sell t…\n",
            "Favorites:  0\n",
            "Retweets:  454\n",
            "\n",
            "RT @DDNewslive: Farmer Rambhau Ghate from Buldhana district of Maharashtra says the new farm policy has generated new avenues for economic…\n",
            "Favorites:  0\n",
            "Retweets:  109\n",
            "\n",
            "Truth why #Canadian politicians don't want #FarmLaws2020?\n",
            "\n",
            "1. Law will make #India agribusinesses net exporter of r… https://t.co/o4JEPEyl1X\n",
            "Favorites:  0\n",
            "Retweets:  0\n",
            "\n",
            "So finally their deep-seated 'KhaIistani' agenda is coming out in broad daylight!\n",
            "\n",
            "Flags at a protest against oppos… https://t.co/C0yZ6xWV7m\n",
            "Favorites:  0\n",
            "Retweets:  0\n"
          ],
          "name": "stdout"
        }
      ]
    },
    {
      "cell_type": "markdown",
      "metadata": {
        "id": "jPbWXVQWa7gL"
      },
      "source": [
        "## Extracting text, screen names, and hashtags from tweets"
      ]
    },
    {
      "cell_type": "code",
      "metadata": {
        "id": "t5Vl5LCia7gL",
        "colab": {
          "base_uri": "https://localhost:8080/"
        },
        "outputId": "6c5cf37e-c3d4-4883-ce46-dfd0a5b680d1"
      },
      "source": [
        "status_texts = [ status['text'] \n",
        "                 for status in statuses ]\n",
        "\n",
        "screen_names = [ user_mention['screen_name'] \n",
        "                 for status in statuses\n",
        "                     for user_mention in status['entities']['user_mentions'] ]\n",
        "\n",
        "hashtags = [ hashtag['text'] \n",
        "             for status in statuses\n",
        "                 for hashtag in status['entities']['hashtags'] ]\n",
        "\n",
        "# Compute a collection of all words from all tweets\n",
        "words = [ w \n",
        "          for t in status_texts \n",
        "              for w in t.split() ]\n",
        "\n",
        "# Explore the first 5 items for each...\n",
        "\n",
        "print(json.dumps(status_texts[0:5], indent=1))\n",
        "print(json.dumps(screen_names[0:5], indent=1) )\n",
        "print(json.dumps(hashtags[0:5], indent=1))\n",
        "print(json.dumps(words[0:5], indent=1))"
      ],
      "execution_count": 19,
      "outputs": [
        {
          "output_type": "stream",
          "text": [
            "[\n",
            " \"RT @IndiaToday: British Sikhs gathered to protest against India's new farming legislation, outside the High Commission of India in London,\\u2026\",\n",
            " \"RT @YayathiPuru: Gujarat farmers announce formation of a campaign against the #FarmLaws2020 and announce support to #BharatBandh on 8th Dec\\u2026\",\n",
            " \"RT @aruna_dk: Farmers from Rajasthan and Madhya Pradesh extend their support to new farm laws, say they are getting more price and incurrin\\u2026\",\n",
            " \"RT @MrsGandhi: Farmers across the country are extremely satisfied &amp; very optimistic about the #FarmLaws2020 brought in by the Modi govt. Li\\u2026\",\n",
            " \"RT @HarshVardhanTri: \\u092f\\u0915\\u093c\\u0940\\u0928 \\u092e\\u093e\\u0928\\u093f\\u090f, \\u091c\\u093f\\u0924\\u0928\\u093e \\u0932\\u0902\\u092c\\u093e \\u092a\\u0902\\u091c\\u093e\\u092c \\u0915\\u0947 \\u092c\\u0921\\u093c\\u0947 \\u0915\\u093f\\u0938\\u093e\\u0928\\u094b\\u0902 \\u0915\\u093e \\u0906\\u0902\\u0926\\u094b\\u0932\\u0928 \\u091a\\u0932\\u0947\\u0917\\u093e, \\u0909\\u0924\\u0928\\u093e \\u091c\\u093c\\u094d\\u092f\\u093e\\u0926\\u093e \\u0926\\u0947\\u0936 \\u0915\\u0947 \\u0906\\u092e \\u0915\\u093f\\u0938\\u093e\\u0928\\u094b\\u0902 \\u0915\\u094b \\u0915\\u0943\\u0937\\u093f \\u0915\\u093c\\u093e\\u0928\\u0942\\u0928\\u094b\\u0902 \\u0938\\u0947 \\u0939\\u094b\\u0928\\u0947\\u2026\"\n",
            "]\n",
            "[\n",
            " \"IndiaToday\",\n",
            " \"YayathiPuru\",\n",
            " \"aruna_dk\",\n",
            " \"MrsGandhi\",\n",
            " \"HarshVardhanTri\"\n",
            "]\n",
            "[\n",
            " \"FarmLaws2020\",\n",
            " \"BharatBandh\",\n",
            " \"FarmLaws2020\",\n",
            " \"FarmersProtest\",\n",
            " \"FarmLaws2020\"\n",
            "]\n",
            "[\n",
            " \"RT\",\n",
            " \"@IndiaToday:\",\n",
            " \"British\",\n",
            " \"Sikhs\",\n",
            " \"gathered\"\n",
            "]\n"
          ],
          "name": "stdout"
        }
      ]
    },
    {
      "cell_type": "markdown",
      "metadata": {
        "id": "UDD58m4ya7gL"
      },
      "source": [
        "## Creating a basic frequency distribution from the words in tweets"
      ]
    },
    {
      "cell_type": "code",
      "metadata": {
        "id": "0emP3PgSa7gL",
        "colab": {
          "base_uri": "https://localhost:8080/"
        },
        "outputId": "7d18adb0-8b26-47a7-e56f-0152b247113b"
      },
      "source": [
        "from collections import Counter\n",
        "\n",
        "for item in [words, screen_names, hashtags]:\n",
        "    c = Counter(item)\n",
        "    print(c.most_common()[:10]) # top 10\n",
        "    print()"
      ],
      "execution_count": 20,
      "outputs": [
        {
          "output_type": "stream",
          "text": [
            "[('RT', 477), ('the', 394), ('of', 269), ('from', 228), ('@DDNewslive:', 223), ('for', 216), ('Maharashtra', 213), ('Farmer', 207), ('says', 207), ('#FarmLaws2020', 198)]\n",
            "\n",
            "[('DDNewslive', 223), ('MrsGandhi', 21), ('HarshVardhanTri', 18), ('YayathiPuru', 16), ('barandbench', 16), ('Naushad9783', 16), ('DDNewsHindi', 16), ('narendramodi', 12), ('PTTVOnlineNews', 11), ('lucky_s_chawla', 9)]\n",
            "\n",
            "[('FarmLaws2020', 210), ('FarmersProtest', 38), ('BharatBandh', 21), ('FarmBill', 17), ('FarmersWithModi', 16), ('FarmersProtest2020', 13), ('FarmersPortest', 10), ('IamWithFarmers', 9), ('JUSTIN', 9), ('Farmers', 9)]\n",
            "\n"
          ],
          "name": "stdout"
        }
      ]
    },
    {
      "cell_type": "markdown",
      "metadata": {
        "id": "1SbBvyMFa7gL"
      },
      "source": [
        "## Using prettytable to display tuples in a nice tabular format"
      ]
    },
    {
      "cell_type": "code",
      "metadata": {
        "id": "NdEyradFa7gL",
        "colab": {
          "base_uri": "https://localhost:8080/"
        },
        "outputId": "e3f86ec2-f498-4780-f0d8-33af700833e8"
      },
      "source": [
        "from prettytable import PrettyTable\n",
        "\n",
        "for label, data in (('Word', words), \n",
        "                    ('Screen Name', screen_names), \n",
        "                    ('Hashtag', hashtags)):\n",
        "    pt = PrettyTable(field_names=[label, 'Count']) \n",
        "    c = Counter(data)\n",
        "    [ pt.add_row(kv) for kv in c.most_common()[:10] ]\n",
        "    pt.align[label], pt.align['Count'] = 'l', 'r' # Set column alignment\n",
        "    print(pt)"
      ],
      "execution_count": 21,
      "outputs": [
        {
          "output_type": "stream",
          "text": [
            "+---------------+-------+\n",
            "| Word          | Count |\n",
            "+---------------+-------+\n",
            "| RT            |   477 |\n",
            "| the           |   394 |\n",
            "| of            |   269 |\n",
            "| from          |   228 |\n",
            "| @DDNewslive:  |   223 |\n",
            "| for           |   216 |\n",
            "| Maharashtra   |   213 |\n",
            "| Farmer        |   207 |\n",
            "| says          |   207 |\n",
            "| #FarmLaws2020 |   198 |\n",
            "+---------------+-------+\n",
            "+-----------------+-------+\n",
            "| Screen Name     | Count |\n",
            "+-----------------+-------+\n",
            "| DDNewslive      |   223 |\n",
            "| MrsGandhi       |    21 |\n",
            "| HarshVardhanTri |    18 |\n",
            "| YayathiPuru     |    16 |\n",
            "| barandbench     |    16 |\n",
            "| Naushad9783     |    16 |\n",
            "| DDNewsHindi     |    16 |\n",
            "| narendramodi    |    12 |\n",
            "| PTTVOnlineNews  |    11 |\n",
            "| lucky_s_chawla  |     9 |\n",
            "+-----------------+-------+\n",
            "+--------------------+-------+\n",
            "| Hashtag            | Count |\n",
            "+--------------------+-------+\n",
            "| FarmLaws2020       |   210 |\n",
            "| FarmersProtest     |    38 |\n",
            "| BharatBandh        |    21 |\n",
            "| FarmBill           |    17 |\n",
            "| FarmersWithModi    |    16 |\n",
            "| FarmersProtest2020 |    13 |\n",
            "| FarmersPortest     |    10 |\n",
            "| IamWithFarmers     |     9 |\n",
            "| JUSTIN             |     9 |\n",
            "| Farmers            |     9 |\n",
            "+--------------------+-------+\n"
          ],
          "name": "stdout"
        }
      ]
    },
    {
      "cell_type": "markdown",
      "metadata": {
        "id": "shSjIbIva7gL"
      },
      "source": [
        "## Calculating lexical diversity for tweets"
      ]
    },
    {
      "cell_type": "code",
      "metadata": {
        "id": "reN0FTiha7gM",
        "colab": {
          "base_uri": "https://localhost:8080/"
        },
        "outputId": "e4966212-f22f-478c-9ba5-2eb6de619ac9"
      },
      "source": [
        "# A function for computing lexical diversity\n",
        "def lexical_diversity(tokens):\n",
        "    return len(set(tokens))/len(tokens) \n",
        "\n",
        "# A function for computing the average number of words per tweet\n",
        "def average_words(statuses):\n",
        "    total_words = sum([ len(s.split()) for s in statuses ]) \n",
        "    return total_words/len(statuses)\n",
        "\n",
        "print(lexical_diversity(words))\n",
        "print(lexical_diversity(screen_names))\n",
        "print(lexical_diversity(hashtags))\n",
        "print(average_words(status_texts))"
      ],
      "execution_count": 22,
      "outputs": [
        {
          "output_type": "stream",
          "text": [
            "0.17372440124956612\n",
            "0.25\n",
            "0.2453781512605042\n",
            "19.206666666666667\n"
          ],
          "name": "stdout"
        }
      ]
    },
    {
      "cell_type": "markdown",
      "metadata": {
        "id": "VamnLqV5a7gM"
      },
      "source": [
        "## Finding the most popular retweets"
      ]
    },
    {
      "cell_type": "code",
      "metadata": {
        "id": "YmNWFZEta7gN",
        "colab": {
          "base_uri": "https://localhost:8080/"
        },
        "outputId": "25cb0812-7d1a-4dce-d418-7b9cc0ec07b8"
      },
      "source": [
        "retweets = [\n",
        "            # Store out a tuple of these three values ...\n",
        "            (status['retweet_count'], \n",
        "             status['retweeted_status']['user']['screen_name'],\n",
        "             status['retweeted_status']['id'],\n",
        "             status['text']) \n",
        "            \n",
        "            # ... for each status ...\n",
        "            for status in statuses \n",
        "            \n",
        "            # ... so long as the status meets this condition.\n",
        "                if 'retweeted_status' in status.keys()\n",
        "           ]\n",
        "\n",
        "# Slice off the first 5 from the sorted results and display each item in the tuple\n",
        "\n",
        "pt = PrettyTable(field_names=['Count', 'Screen Name', 'Tweet ID', 'Text'])\n",
        "[ pt.add_row(row) for row in sorted(retweets, reverse=True)[:5] ]\n",
        "pt.max_width['Text'] = 50\n",
        "pt.align= 'l'\n",
        "print(pt)"
      ],
      "execution_count": 23,
      "outputs": [
        {
          "output_type": "stream",
          "text": [
            "+-------+-------------+---------------------+----------------------------------------------------+\n",
            "| Count | Screen Name | Tweet ID            | Text                                               |\n",
            "+-------+-------------+---------------------+----------------------------------------------------+\n",
            "| 934   | MrsGandhi   | 1335525434566475785 | RT @MrsGandhi: Farmers across the country are      |\n",
            "|       |             |                     | extremely satisfied &amp; very optimistic about    |\n",
            "|       |             |                     | the #FarmLaws2020 brought in by the Modi govt. Li… |\n",
            "| 934   | MrsGandhi   | 1335525434566475785 | RT @MrsGandhi: Farmers across the country are      |\n",
            "|       |             |                     | extremely satisfied &amp; very optimistic about    |\n",
            "|       |             |                     | the #FarmLaws2020 brought in by the Modi govt. Li… |\n",
            "| 934   | MrsGandhi   | 1335525434566475785 | RT @MrsGandhi: Farmers across the country are      |\n",
            "|       |             |                     | extremely satisfied &amp; very optimistic about    |\n",
            "|       |             |                     | the #FarmLaws2020 brought in by the Modi govt. Li… |\n",
            "| 934   | MrsGandhi   | 1335525434566475785 | RT @MrsGandhi: Farmers across the country are      |\n",
            "|       |             |                     | extremely satisfied &amp; very optimistic about    |\n",
            "|       |             |                     | the #FarmLaws2020 brought in by the Modi govt. Li… |\n",
            "| 934   | MrsGandhi   | 1335525434566475785 | RT @MrsGandhi: Farmers across the country are      |\n",
            "|       |             |                     | extremely satisfied &amp; very optimistic about    |\n",
            "|       |             |                     | the #FarmLaws2020 brought in by the Modi govt. Li… |\n",
            "+-------+-------------+---------------------+----------------------------------------------------+\n"
          ],
          "name": "stdout"
        }
      ]
    },
    {
      "cell_type": "markdown",
      "metadata": {
        "id": "cYgHsaIBa7gN"
      },
      "source": [
        "## Looking up users who have retweeted a status"
      ]
    },
    {
      "cell_type": "code",
      "metadata": {
        "id": "au94g8xPa7gN",
        "colab": {
          "base_uri": "https://localhost:8080/"
        },
        "outputId": "e0d07d87-9314-43d5-bbb6-fe952d131e79"
      },
      "source": [
        "# Get the original tweet id for a tweet from its retweeted_status node \n",
        "# and insert it here\n",
        "\n",
        "_retweets = twitter_api.statuses.retweets(id=862359093398261760)\n",
        "print([r['user']['screen_name'] for r in _retweets])"
      ],
      "execution_count": 24,
      "outputs": [
        {
          "output_type": "stream",
          "text": [
            "['vijoumolce1988', 'driftourare1988', 'NoNicheNC', 'livingmybestie', 'Rockawaytheday']\n"
          ],
          "name": "stdout"
        }
      ]
    },
    {
      "cell_type": "markdown",
      "metadata": {
        "id": "IXAsyu25a7gN"
      },
      "source": [
        "## Plotting frequencies of words"
      ]
    },
    {
      "cell_type": "code",
      "metadata": {
        "id": "WzmzFjBXa7gN",
        "colab": {
          "base_uri": "https://localhost:8080/",
          "height": 300
        },
        "outputId": "39d62716-cef5-4a0f-cc6b-f97c1e42120b"
      },
      "source": [
        "import matplotlib.pyplot as plt\n",
        "%matplotlib inline\n",
        "word_counts = sorted(Counter(words).values(), reverse=True)\n",
        "\n",
        "plt.loglog(word_counts)\n",
        "plt.ylabel(\"Freq\")\n",
        "plt.xlabel(\"Word Rank\")"
      ],
      "execution_count": 25,
      "outputs": [
        {
          "output_type": "execute_result",
          "data": {
            "text/plain": [
              "Text(0.5, 0, 'Word Rank')"
            ]
          },
          "metadata": {
            "tags": []
          },
          "execution_count": 25
        },
        {
          "output_type": "display_data",
          "data": {
            "image/png": "[encoded data removed]",
            "text/plain": [
              "<Figure size 432x288 with 1 Axes>"
            ]
          },
          "metadata": {
            "tags": [],
            "needs_background": "light"
          }
        }
      ]
    },
    {
      "cell_type": "markdown",
      "metadata": {
        "id": "Ui3foLy6a7gN"
      },
      "source": [
        "## Generating histograms of words, screen names, and hashtags"
      ]
    },
    {
      "cell_type": "code",
      "metadata": {
        "id": "hGU36NAXa7gN",
        "colab": {
          "base_uri": "https://localhost:8080/",
          "height": 868
        },
        "outputId": "cc75f3c9-8220-4c2d-cc80-7c90368cab7f"
      },
      "source": [
        "for label, data in (('Words', words), \n",
        "                    ('Screen Names', screen_names), \n",
        "                    ('Hashtags', hashtags)):\n",
        "\n",
        "    # Build a frequency map for each set of data\n",
        "    # and plot the values\n",
        "    c = Counter(data)\n",
        "    plt.hist(list(c.values()))\n",
        "    \n",
        "    # Add a title and y-label ...\n",
        "    plt.title(label)\n",
        "    plt.ylabel(\"Number of items in bin\")\n",
        "    plt.xlabel(\"Bins (number of times an item appeared)\")\n",
        "    \n",
        "    # ... and display as a new figure\n",
        "    plt.figure()"
      ],
      "execution_count": 26,
      "outputs": [
        {
          "output_type": "display_data",
          "data": {
            "image/png": "[encoded data removed]",
            "text/plain": [
              "<Figure size 432x288 with 1 Axes>"
            ]
          },
          "metadata": {
            "tags": [],
            "needs_background": "light"
          }
        },
        {
          "output_type": "display_data",
          "data": {
            "image/png": "[encoded data removed]",
            "text/plain": [
              "<Figure size 432x288 with 1 Axes>"
            ]
          },
          "metadata": {
            "tags": [],
            "needs_background": "light"
          }
        },
        {
          "output_type": "display_data",
          "data": {
            "image/png": "[encoded data removed]",
            "text/plain": [
              "<Figure size 432x288 with 1 Axes>"
            ]
          },
          "metadata": {
            "tags": [],
            "needs_background": "light"
          }
        },
        {
          "output_type": "display_data",
          "data": {
            "text/plain": [
              "<Figure size 432x288 with 0 Axes>"
            ]
          },
          "metadata": {
            "tags": []
          }
        }
      ]
    },
    {
      "cell_type": "markdown",
      "metadata": {
        "id": "sWgk25YWa7gN"
      },
      "source": [
        "## Generating a histogram of retweet counts"
      ]
    },
    {
      "cell_type": "code",
      "metadata": {
        "id": "eJZge8kUa7gN",
        "colab": {
          "base_uri": "https://localhost:8080/",
          "height": 312
        },
        "outputId": "548eb47d-29b3-4a75-c104-9ee8a52df954"
      },
      "source": [
        "# Using underscores while unpacking values in\n",
        "# a tuple is idiomatic for discarding them\n",
        "\n",
        "counts = [count for count, _, _, _ in retweets]\n",
        "\n",
        "plt.hist(counts)\n",
        "plt.title('Retweets')\n",
        "plt.xlabel('Bins (number of times retweeted)')\n",
        "plt.ylabel('Number of tweets in bin')"
      ],
      "execution_count": 27,
      "outputs": [
        {
          "output_type": "execute_result",
          "data": {
            "text/plain": [
              "Text(0, 0.5, 'Number of tweets in bin')"
            ]
          },
          "metadata": {
            "tags": []
          },
          "execution_count": 27
        },
        {
          "output_type": "display_data",
          "data": {
            "image/png": "[encoded data removed]",
            "text/plain": [
              "<Figure size 432x288 with 1 Axes>"
            ]
          },
          "metadata": {
            "tags": [],
            "needs_background": "light"
          }
        }
      ]
    },
    {
      "cell_type": "markdown",
      "metadata": {
        "collapsed": true,
        "id": "M6m1hsTMa7gN"
      },
      "source": [
        "## Sentiment Analysis"
      ]
    },
    {
      "cell_type": "code",
      "metadata": {
        "id": "4ZjpixKba7gN",
        "colab": {
          "base_uri": "https://localhost:8080/"
        },
        "outputId": "918b5333-765e-4226-c25b-8ca608d14e6b"
      },
      "source": [
        "# pip install nltk\n",
        "import nltk\n",
        "nltk.download('vader_lexicon')\n",
        "\n",
        "import numpy as np\n",
        "from nltk.sentiment.vader import SentimentIntensityAnalyzer"
      ],
      "execution_count": 28,
      "outputs": [
        {
          "output_type": "stream",
          "text": [
            "[nltk_data] Downloading package vader_lexicon to /root/nltk_data...\n"
          ],
          "name": "stdout"
        },
        {
          "output_type": "stream",
          "text": [
            "/usr/local/lib/python3.6/dist-packages/nltk/twitter/__init__.py:20: UserWarning: The twython library has not been installed. Some functionality from the twitter package will not be available.\n",
            "  warnings.warn(\"The twython library has not been installed. \"\n"
          ],
          "name": "stderr"
        }
      ]
    },
    {
      "cell_type": "code",
      "metadata": {
        "id": "_p0SKNsua7gN"
      },
      "source": [
        "twitter_stream = twitter.TwitterStream(auth=auth)\n",
        "iterator = twitter_stream.statuses.sample()"
      ],
      "execution_count": 29,
      "outputs": []
    },
    {
      "cell_type": "code",
      "metadata": {
        "id": "-EqE0P-La7gN"
      },
      "source": [
        "tweets = []\n",
        "for tweet in iterator:\n",
        "    try:\n",
        "        if tweet['lang'] == 'en':\n",
        "            tweets.append(tweet)\n",
        "    except:\n",
        "        pass\n",
        "    if len(tweets) == 100:\n",
        "        break"
      ],
      "execution_count": 30,
      "outputs": []
    },
    {
      "cell_type": "code",
      "metadata": {
        "id": "dAIUy137a7gN"
      },
      "source": [
        "analyzer = SentimentIntensityAnalyzer()"
      ],
      "execution_count": 31,
      "outputs": []
    },
    {
      "cell_type": "code",
      "metadata": {
        "id": "CDAWwCWqa7gN",
        "colab": {
          "base_uri": "https://localhost:8080/"
        },
        "outputId": "9c5e3f16-2705-4c89-b136-9de71386fd22"
      },
      "source": [
        "analyzer.polarity_scores('Hello')"
      ],
      "execution_count": 32,
      "outputs": [
        {
          "output_type": "execute_result",
          "data": {
            "text/plain": [
              "{'compound': 0.0, 'neg': 0.0, 'neu': 1.0, 'pos': 0.0}"
            ]
          },
          "metadata": {
            "tags": []
          },
          "execution_count": 32
        }
      ]
    },
    {
      "cell_type": "code",
      "metadata": {
        "id": "eYuz1PCFa7gN",
        "colab": {
          "base_uri": "https://localhost:8080/"
        },
        "outputId": "6dd5fac4-bf39-472c-99db-c49544a5e220"
      },
      "source": [
        "analyzer.polarity_scores('I really enjoy this video series.')"
      ],
      "execution_count": 33,
      "outputs": [
        {
          "output_type": "execute_result",
          "data": {
            "text/plain": [
              "{'compound': 0.5413, 'neg': 0.0, 'neu': 0.534, 'pos': 0.466}"
            ]
          },
          "metadata": {
            "tags": []
          },
          "execution_count": 33
        }
      ]
    },
    {
      "cell_type": "code",
      "metadata": {
        "id": "ctnboGbVa7gN",
        "colab": {
          "base_uri": "https://localhost:8080/"
        },
        "outputId": "d7aca760-9e5d-437e-9638-eba2d579f818"
      },
      "source": [
        "analyzer.polarity_scores('I REALLY enjoy this video series.')"
      ],
      "execution_count": 34,
      "outputs": [
        {
          "output_type": "execute_result",
          "data": {
            "text/plain": [
              "{'compound': 0.64, 'neg': 0.0, 'neu': 0.486, 'pos': 0.514}"
            ]
          },
          "metadata": {
            "tags": []
          },
          "execution_count": 34
        }
      ]
    },
    {
      "cell_type": "code",
      "metadata": {
        "id": "ljJxc9JDa7gN",
        "colab": {
          "base_uri": "https://localhost:8080/"
        },
        "outputId": "15651dee-f6f4-44a4-9b9d-783f72792d30"
      },
      "source": [
        "analyzer.polarity_scores('I REALLY enjoy this video series!!!')"
      ],
      "execution_count": 35,
      "outputs": [
        {
          "output_type": "execute_result",
          "data": {
            "text/plain": [
              "{'compound': 0.7271, 'neg': 0.0, 'neu': 0.439, 'pos': 0.561}"
            ]
          },
          "metadata": {
            "tags": []
          },
          "execution_count": 35
        }
      ]
    },
    {
      "cell_type": "code",
      "metadata": {
        "id": "ZIXOmeK_a7gN",
        "colab": {
          "base_uri": "https://localhost:8080/"
        },
        "outputId": "0cf1ad82-fe86-499d-e4c9-fc6fabe05846"
      },
      "source": [
        "analyzer.polarity_scores('I REALLY did not enjoy this video series!!!')"
      ],
      "execution_count": 36,
      "outputs": [
        {
          "output_type": "execute_result",
          "data": {
            "text/plain": [
              "{'compound': -0.6627, 'neg': 0.425, 'neu': 0.575, 'pos': 0.0}"
            ]
          },
          "metadata": {
            "tags": []
          },
          "execution_count": 36
        }
      ]
    },
    {
      "cell_type": "code",
      "metadata": {
        "id": "TOCqIPO9a7gN"
      },
      "source": [
        "scores = np.zeros(len(tweets))\n",
        "\n",
        "for i, t in enumerate(tweets):\n",
        "    # Extract the text portion of the tweet\n",
        "    text = t['text']\n",
        "    \n",
        "    # Measure the polarity of the tweet\n",
        "    polarity = analyzer.polarity_scores(text)\n",
        "    \n",
        "    # Store the normalized, weighted composite score\n",
        "    scores[i] = polarity['compound']"
      ],
      "execution_count": 37,
      "outputs": []
    },
    {
      "cell_type": "code",
      "metadata": {
        "id": "Nsm4vIa2a7gN"
      },
      "source": [
        "most_positive = np.argmax(scores)\n",
        "most_negative = np.argmin(scores)"
      ],
      "execution_count": 38,
      "outputs": []
    },
    {
      "cell_type": "code",
      "metadata": {
        "id": "fn8DMrs0a7gN",
        "colab": {
          "base_uri": "https://localhost:8080/"
        },
        "outputId": "cd756c0a-fd44-4054-8f08-ee4e15aa2cc0"
      },
      "source": [
        "print('{0:6.3f} : \"{1}\"'.format(scores[most_positive], tweets[most_positive]['text']))"
      ],
      "execution_count": 39,
      "outputs": [
        {
          "output_type": "stream",
          "text": [
            " 0.909 : \"RT @Mhollstein: My short story, Mystery of the Beautiful Old Friend, is a FREE Kindle ebook through Saturday, December 5th!  \n",
            "https://t.co/…\"\n"
          ],
          "name": "stdout"
        }
      ]
    },
    {
      "cell_type": "code",
      "metadata": {
        "id": "H_5TgOrha7gN",
        "colab": {
          "base_uri": "https://localhost:8080/"
        },
        "outputId": "f0d63d8f-7f7b-410a-86a1-42ae2e096598"
      },
      "source": [
        "print('{0:6.3f} : \"{1}\"'.format(scores[most_negative], tweets[most_negative]['text']))"
      ],
      "execution_count": 40,
      "outputs": [
        {
          "output_type": "stream",
          "text": [
            "-0.848 : \"I started crying when Sanam's eviction was announced and i kept crying till she left. \n",
            "\n",
            "Sanam you are my Queen. I o… https://t.co/qoJy0IT53K\"\n"
          ],
          "name": "stdout"
        }
      ]
    },
    {
      "cell_type": "code",
      "metadata": {
        "id": "VEAzDooFa7gN"
      },
      "source": [
        ""
      ],
      "execution_count": null,
      "outputs": []
    }
  ]
}